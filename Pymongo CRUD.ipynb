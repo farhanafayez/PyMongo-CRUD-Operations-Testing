{
 "cells": [
  {
   "cell_type": "code",
   "execution_count": 12,
   "metadata": {},
   "outputs": [],
   "source": [
    "from pymongo import MongoClient\n",
    "client = MongoClient('mongodb://localhost:27017/')\n",
    "farhana = client.examples\n",
    "#Testing CRUD operations in Pymongo "
   ]
  },
  {
   "cell_type": "code",
   "execution_count": 14,
   "metadata": {},
   "outputs": [
    {
     "name": "stderr",
     "output_type": "stream",
     "text": [
      "C:\\Users\\Farhana_Fayez\\Anaconda2\\envs\\wolt\\lib\\site-packages\\ipykernel\\__main__.py:1: DeprecationWarning: insert is deprecated. Use insert_one or insert_many instead.\n",
      "  if __name__ == '__main__':\n"
     ]
    },
    {
     "data": {
      "text/plain": [
       "ObjectId('5940270b59e23414a8339260')"
      ]
     },
     "execution_count": 14,
     "metadata": {},
     "output_type": "execute_result"
    }
   ],
   "source": [
    "#Testing Create operation in Pymongo \n",
    "farhana.cars.insert({\"name\": \"Tesla\"})"
   ]
  },
  {
   "cell_type": "code",
   "execution_count": 20,
   "metadata": {},
   "outputs": [
    {
     "name": "stdout",
     "output_type": "stream",
     "text": [
      "{u'_id': ObjectId('5940270b59e23414a8339260'), u'name': u'Tesla'}\n"
     ]
    }
   ],
   "source": [
    "#Testing Read operation in Pymongo \n",
    "print farhana.cars.find_one()\n"
   ]
  },
  {
   "cell_type": "code",
   "execution_count": 22,
   "metadata": {},
   "outputs": [
    {
     "name": "stderr",
     "output_type": "stream",
     "text": [
      "C:\\Users\\Farhana_Fayez\\Anaconda2\\envs\\wolt\\lib\\site-packages\\ipykernel\\__main__.py:1: DeprecationWarning: insert is deprecated. Use insert_one or insert_many instead.\n",
      "  if __name__ == '__main__':\n"
     ]
    },
    {
     "data": {
      "text/plain": [
       "ObjectId('594027f259e23414a8339261')"
      ]
     },
     "execution_count": 22,
     "metadata": {},
     "output_type": "execute_result"
    }
   ],
   "source": [
    "farhana.cars.insert({\"name\": \"Toyota\"})"
   ]
  },
  {
   "cell_type": "code",
   "execution_count": 26,
   "metadata": {},
   "outputs": [
    {
     "name": "stdout",
     "output_type": "stream",
     "text": [
      "{u'_id': ObjectId('5940270b59e23414a8339260'), u'name': u'Tesla'}\n"
     ]
    }
   ],
   "source": [
    "print farhana.cars.find_one()"
   ]
  },
  {
   "cell_type": "code",
   "execution_count": 33,
   "metadata": {},
   "outputs": [],
   "source": [
    "from bson.objectid import ObjectId"
   ]
  },
  {
   "cell_type": "code",
   "execution_count": 34,
   "metadata": {},
   "outputs": [
    {
     "name": "stdout",
     "output_type": "stream",
     "text": [
      "{u'_id': ObjectId('594027f259e23414a8339261'), u'name': u'Toyota'}\n"
     ]
    }
   ],
   "source": [
    "#Testing Read operation in Pymongo by Object ID\n",
    "print farhana.cars.find_one({'_id': ObjectId('594027f259e23414a8339261') })"
   ]
  },
  {
   "cell_type": "code",
   "execution_count": 69,
   "metadata": {},
   "outputs": [
    {
     "name": "stdout",
     "output_type": "stream",
     "text": [
      "{u'_id': ObjectId('5940270b59e23414a8339260'), u'name': u'Tesla'}\n",
      "{u'Year': u'3333',\n",
      " u'_id': ObjectId('594027f259e23414a8339261'),\n",
      " u'name': u'Toyota'}\n",
      "{u'Year': u'2007',\n",
      " u'_id': ObjectId('59402e2a59e23414a8339262'),\n",
      " u'name': u'Ferari'}\n",
      "{u'Year': u'2004',\n",
      " u'_id': ObjectId('59402e8e59e23414a8339263'),\n",
      " u'name': u'Lamborgini'}\n",
      "{u'Year': u'2004',\n",
      " u'_id': ObjectId('59402f0459e23414a8339264'),\n",
      " u'name': u'kia'}\n"
     ]
    }
   ],
   "source": [
    "#Printing all the car collections data\n",
    "import pprint\n",
    "for a in farhana.cars.find():\n",
    "    pprint.pprint(a)"
   ]
  },
  {
   "cell_type": "code",
   "execution_count": 36,
   "metadata": {},
   "outputs": [
    {
     "name": "stderr",
     "output_type": "stream",
     "text": [
      "C:\\Users\\Farhana_Fayez\\Anaconda2\\envs\\wolt\\lib\\site-packages\\ipykernel\\__main__.py:1: DeprecationWarning: insert is deprecated. Use insert_one or insert_many instead.\n",
      "  if __name__ == '__main__':\n"
     ]
    },
    {
     "data": {
      "text/plain": [
       "ObjectId('59402e2a59e23414a8339262')"
      ]
     },
     "execution_count": 36,
     "metadata": {},
     "output_type": "execute_result"
    }
   ],
   "source": [
    "farhana.cars.insert({\"name\": \"Ferari\", \"Year\": \"2007\"})"
   ]
  },
  {
   "cell_type": "code",
   "execution_count": 39,
   "metadata": {},
   "outputs": [
    {
     "name": "stderr",
     "output_type": "stream",
     "text": [
      "C:\\Users\\Farhana_Fayez\\Anaconda2\\envs\\wolt\\lib\\site-packages\\ipykernel\\__main__.py:3: DeprecationWarning: insert is deprecated. Use insert_one or insert_many instead.\n",
      "  app.launch_new_instance()\n"
     ]
    },
    {
     "data": {
      "text/plain": [
       "[ObjectId('59402f0459e23414a8339264'), ObjectId('59402f0459e23414a8339265')]"
      ]
     },
     "execution_count": 39,
     "metadata": {},
     "output_type": "execute_result"
    }
   ],
   "source": [
    "farhana.cars.insert([\n",
    "    {\"name\": \"kia\", \"Year\": \"2004\"}, \n",
    "    {\"name\": \"Mercedes\", \"Year\": \"2004\"}\n",
    "])"
   ]
  },
  {
   "cell_type": "code",
   "execution_count": 40,
   "metadata": {},
   "outputs": [
    {
     "name": "stdout",
     "output_type": "stream",
     "text": [
      "{u'_id': ObjectId('5940270b59e23414a8339260'), u'name': u'Tesla'}\n",
      "{u'_id': ObjectId('594027f259e23414a8339261'), u'name': u'Toyota'}\n",
      "{u'Year': u'2007',\n",
      " u'_id': ObjectId('59402e2a59e23414a8339262'),\n",
      " u'name': u'Ferari'}\n",
      "{u'Year': u'2004',\n",
      " u'_id': ObjectId('59402e8e59e23414a8339263'),\n",
      " u'name': u'Lamborgini'}\n",
      "{u'Year': u'2004',\n",
      " u'_id': ObjectId('59402f0459e23414a8339264'),\n",
      " u'name': u'kia'}\n",
      "{u'Year': u'2004',\n",
      " u'_id': ObjectId('59402f0459e23414a8339265'),\n",
      " u'name': u'Mercedes'}\n"
     ]
    }
   ],
   "source": [
    "#Testing Create operation in Pymongo for a in farhana.cars.find():\n",
    "    pprint.pprint(a)"
   ]
  },
  {
   "cell_type": "code",
   "execution_count": 59,
   "metadata": {},
   "outputs": [
    {
     "name": "stderr",
     "output_type": "stream",
     "text": [
      "C:\\Users\\Farhana_Fayez\\Anaconda2\\envs\\wolt\\lib\\site-packages\\ipykernel\\__main__.py:1: DeprecationWarning: update is deprecated. Use replace_one, update_one or update_many instead.\n",
      "  if __name__ == '__main__':\n"
     ]
    },
    {
     "data": {
      "text/plain": [
       "{u'n': 1, u'nModified': 1, u'ok': 1.0, 'updatedExisting': True}"
      ]
     },
     "execution_count": 59,
     "metadata": {},
     "output_type": "execute_result"
    }
   ],
   "source": [
    "#Testing Update operation in Pymongo \n",
    "farhana.cars.update({'name':\"Mercedes\"}, {\"$set\": {\"Year\":\"1997\" }}, upsert=False)"
   ]
  },
  {
   "cell_type": "code",
   "execution_count": 60,
   "metadata": {},
   "outputs": [
    {
     "name": "stdout",
     "output_type": "stream",
     "text": [
      "{u'_id': ObjectId('5940270b59e23414a8339260'), u'name': u'Tesla'}\n",
      "{u'_id': ObjectId('594027f259e23414a8339261'), u'name': u'Toyota'}\n",
      "{u'Year': u'2007',\n",
      " u'_id': ObjectId('59402e2a59e23414a8339262'),\n",
      " u'name': u'Ferari'}\n",
      "{u'Year': u'2004',\n",
      " u'_id': ObjectId('59402e8e59e23414a8339263'),\n",
      " u'name': u'Lamborgini'}\n",
      "{u'Year': u'2004',\n",
      " u'_id': ObjectId('59402f0459e23414a8339264'),\n",
      " u'name': u'kia'}\n",
      "{u'Year': u'1997',\n",
      " u'_id': ObjectId('59402f0459e23414a8339265'),\n",
      " u'name': u'Mercedes'}\n"
     ]
    }
   ],
   "source": [
    "for a in farhana.cars.find():\n",
    "    pprint.pprint(a)"
   ]
  },
  {
   "cell_type": "code",
   "execution_count": 64,
   "metadata": {},
   "outputs": [
    {
     "name": "stderr",
     "output_type": "stream",
     "text": [
      "C:\\Users\\Farhana_Fayez\\Anaconda2\\envs\\wolt\\lib\\site-packages\\ipykernel\\__main__.py:2: DeprecationWarning: update is deprecated. Use replace_one, update_one or update_many instead.\n",
      "  from ipykernel import kernelapp as app\n"
     ]
    },
    {
     "data": {
      "text/plain": [
       "{u'n': 1, u'nModified': 1, u'ok': 1.0, 'updatedExisting': True}"
      ]
     },
     "execution_count": 64,
     "metadata": {},
     "output_type": "execute_result"
    }
   ],
   "source": [
    "\n",
    "farhana.cars.update({'_id':ObjectId('59402f0459e23414a8339265')}, {\"$set\": {\"Year\":\"1111\" }}, upsert=False)"
   ]
  },
  {
   "cell_type": "code",
   "execution_count": 66,
   "metadata": {},
   "outputs": [
    {
     "name": "stdout",
     "output_type": "stream",
     "text": [
      "{u'_id': ObjectId('5940270b59e23414a8339260'), u'name': u'Tesla'}\n",
      "{u'Year': u'3333',\n",
      " u'_id': ObjectId('594027f259e23414a8339261'),\n",
      " u'name': u'Toyota'}\n",
      "{u'Year': u'2007',\n",
      " u'_id': ObjectId('59402e2a59e23414a8339262'),\n",
      " u'name': u'Ferari'}\n",
      "{u'Year': u'2004',\n",
      " u'_id': ObjectId('59402e8e59e23414a8339263'),\n",
      " u'name': u'Lamborgini'}\n",
      "{u'Year': u'2004',\n",
      " u'_id': ObjectId('59402f0459e23414a8339264'),\n",
      " u'name': u'kia'}\n",
      "{u'Year': u'1111',\n",
      " u'_id': ObjectId('59402f0459e23414a8339265'),\n",
      " u'name': u'Mercedes'}\n"
     ]
    }
   ],
   "source": [
    "for a in farhana.cars.find():\n",
    "    pprint.pprint(a)"
   ]
  },
  {
   "cell_type": "code",
   "execution_count": 67,
   "metadata": {},
   "outputs": [
    {
     "data": {
      "text/plain": [
       "<pymongo.results.DeleteResult at 0x616a3a8>"
      ]
     },
     "execution_count": 67,
     "metadata": {},
     "output_type": "execute_result"
    }
   ],
   "source": [
    "#Testing Delete operation in Pymongo \n",
    "farhana.cars.delete_one({'_id': ObjectId(\"59402f0459e23414a8339265\")})"
   ]
  },
  {
   "cell_type": "code",
   "execution_count": 68,
   "metadata": {},
   "outputs": [
    {
     "name": "stdout",
     "output_type": "stream",
     "text": [
      "{u'_id': ObjectId('5940270b59e23414a8339260'), u'name': u'Tesla'}\n",
      "{u'Year': u'3333',\n",
      " u'_id': ObjectId('594027f259e23414a8339261'),\n",
      " u'name': u'Toyota'}\n",
      "{u'Year': u'2007',\n",
      " u'_id': ObjectId('59402e2a59e23414a8339262'),\n",
      " u'name': u'Ferari'}\n",
      "{u'Year': u'2004',\n",
      " u'_id': ObjectId('59402e8e59e23414a8339263'),\n",
      " u'name': u'Lamborgini'}\n",
      "{u'Year': u'2004',\n",
      " u'_id': ObjectId('59402f0459e23414a8339264'),\n",
      " u'name': u'kia'}\n"
     ]
    }
   ],
   "source": [
    "for a in farhana.cars.find():\n",
    "    pprint.pprint(a)"
   ]
  },
  {
   "cell_type": "code",
   "execution_count": null,
   "metadata": {
    "collapsed": true
   },
   "outputs": [],
   "source": []
  }
 ],
 "metadata": {
  "anaconda-cloud": {},
  "kernelspec": {
   "display_name": "Python [conda env:wolt]",
   "language": "python",
   "name": "conda-env-wolt-py"
  },
  "language_info": {
   "codemirror_mode": {
    "name": "ipython",
    "version": 2
   },
   "file_extension": ".py",
   "mimetype": "text/x-python",
   "name": "python",
   "nbconvert_exporter": "python",
   "pygments_lexer": "ipython2",
   "version": "2.7.13"
  }
 },
 "nbformat": 4,
 "nbformat_minor": 2
}
